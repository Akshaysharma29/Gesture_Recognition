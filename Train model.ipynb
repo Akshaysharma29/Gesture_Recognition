{
 "cells": [
  {
   "cell_type": "code",
   "execution_count": 1,
   "metadata": {},
   "outputs": [
    {
     "name": "stderr",
     "output_type": "stream",
     "text": [
      "/home/akshay/anaconda3/lib/python3.6/site-packages/h5py/__init__.py:36: FutureWarning: Conversion of the second argument of issubdtype from `float` to `np.floating` is deprecated. In future, it will be treated as `np.float64 == np.dtype(float).type`.\n",
      "  from ._conv import register_converters as _register_converters\n",
      "Using TensorFlow backend.\n"
     ]
    }
   ],
   "source": [
    "import numpy as np\n",
    "import keras\n",
    "from keras.layers import Dense, Activation, Convolution2D, MaxPooling2D, Dropout, Flatten\n",
    "from keras.models import Sequential, save_model\n",
    "from keras.utils import np_utils\n",
    "import os\n",
    "import cv2\n",
    "from sklearn.utils import shuffle"
   ]
  },
  {
   "cell_type": "code",
   "execution_count": 2,
   "metadata": {},
   "outputs": [],
   "source": [
    "path = './gesture/'"
   ]
  },
  {
   "cell_type": "code",
   "execution_count": 3,
   "metadata": {},
   "outputs": [
    {
     "name": "stdout",
     "output_type": "stream",
     "text": [
      "['1', '3', '0', '2']\n"
     ]
    }
   ],
   "source": [
    "gesture = os.listdir(path)\n",
    "print(gesture)"
   ]
  },
  {
   "cell_type": "code",
   "execution_count": 4,
   "metadata": {},
   "outputs": [],
   "source": [
    "x_,y_ = [] ,[]"
   ]
  },
  {
   "cell_type": "code",
   "execution_count": 5,
   "metadata": {},
   "outputs": [
    {
     "name": "stdout",
     "output_type": "stream",
     "text": [
      "1200\n"
     ]
    }
   ],
   "source": [
    "images = os.listdir(path+\"1\")\n",
    "print (len(images))"
   ]
  },
  {
   "cell_type": "code",
   "execution_count": 6,
   "metadata": {},
   "outputs": [],
   "source": [
    "for i in gesture:\n",
    "    images = os.listdir(path + i)\n",
    "    for j in images:\n",
    "            img_path = path + i + '/' + j\n",
    "            img = cv2.imread(img_path,0)\n",
    "            img = np.array(img)\n",
    "            img = img.reshape((50,50,1))\n",
    "            #break\n",
    "            img = img/255.0\n",
    "            x_.append(img)\n",
    "            y_.append(int(i))\n",
    "            #break\n",
    "            \n",
    "            "
   ]
  },
  {
   "cell_type": "code",
   "execution_count": 7,
   "metadata": {},
   "outputs": [
    {
     "name": "stdout",
     "output_type": "stream",
     "text": [
      "(4800, 50, 50, 1)\n",
      "(4800,)\n"
     ]
    }
   ],
   "source": [
    "x = np.array(x_)\n",
    "print(x.shape)\n",
    "y = np.array(y_)\n",
    "print(y.shape)"
   ]
  },
  {
   "cell_type": "code",
   "execution_count": 8,
   "metadata": {},
   "outputs": [
    {
     "name": "stdout",
     "output_type": "stream",
     "text": [
      "(4800, 4)\n",
      "4\n"
     ]
    }
   ],
   "source": [
    "y = np_utils.to_categorical(y)\n",
    "print(y.shape)\n",
    "num_classes =y.shape[1]\n",
    "print(num_classes)"
   ]
  },
  {
   "cell_type": "code",
   "execution_count": 9,
   "metadata": {},
   "outputs": [],
   "source": [
    "x , y = shuffle(x, y, random_state=0)"
   ]
  },
  {
   "cell_type": "code",
   "execution_count": 10,
   "metadata": {},
   "outputs": [],
   "source": [
    "split = int( 0.6*( x.shape[0] ) )\n",
    "train_features = x[ :split ]\n",
    "train_labels = y[ :split ]\n",
    "test_features = x[ split: ]\n",
    "test_labels = y[ split: ]"
   ]
  },
  {
   "cell_type": "code",
   "execution_count": 11,
   "metadata": {},
   "outputs": [
    {
     "name": "stderr",
     "output_type": "stream",
     "text": [
      "/home/akshay/anaconda3/lib/python3.6/site-packages/ipykernel_launcher.py:2: UserWarning: Update your `Conv2D` call to the Keras 2 API: `Conv2D(32, (3, 3), input_shape=(50, 50, 1...)`\n",
      "  \n",
      "/home/akshay/anaconda3/lib/python3.6/site-packages/ipykernel_launcher.py:5: UserWarning: Update your `Conv2D` call to the Keras 2 API: `Conv2D(64, (3, 3))`\n",
      "  \"\"\"\n",
      "/home/akshay/anaconda3/lib/python3.6/site-packages/ipykernel_launcher.py:10: UserWarning: Update your `Conv2D` call to the Keras 2 API: `Conv2D(16, (3, 3))`\n",
      "  # Remove the CWD from sys.path while we load stuff.\n"
     ]
    }
   ],
   "source": [
    "model = Sequential()\n",
    "model.add( Convolution2D(32, 3, 3, input_shape = (50,50,1) ) )\n",
    "model.add( Activation('relu') )\n",
    "\n",
    "model.add( Convolution2D( 64,3,3 ) )\n",
    "model.add( Activation('relu') )\n",
    "\n",
    "model.add( MaxPooling2D( pool_size=(2,2) ) )\n",
    "\n",
    "model.add( Convolution2D( 16, 3, 3 ) )\n",
    "model.add( Activation('relu') )\n",
    "\n",
    "model.add( Flatten() )\n",
    "\n",
    "model.add( Dropout(0.25) )\n",
    "model.add( Dense(num_classes) )\n",
    "\n",
    "model.add( Activation('softmax') )"
   ]
  },
  {
   "cell_type": "code",
   "execution_count": 12,
   "metadata": {},
   "outputs": [
    {
     "name": "stdout",
     "output_type": "stream",
     "text": [
      "_________________________________________________________________\n",
      "Layer (type)                 Output Shape              Param #   \n",
      "=================================================================\n",
      "conv2d_1 (Conv2D)            (None, 48, 48, 32)        320       \n",
      "_________________________________________________________________\n",
      "activation_1 (Activation)    (None, 48, 48, 32)        0         \n",
      "_________________________________________________________________\n",
      "conv2d_2 (Conv2D)            (None, 46, 46, 64)        18496     \n",
      "_________________________________________________________________\n",
      "activation_2 (Activation)    (None, 46, 46, 64)        0         \n",
      "_________________________________________________________________\n",
      "max_pooling2d_1 (MaxPooling2 (None, 23, 23, 64)        0         \n",
      "_________________________________________________________________\n",
      "conv2d_3 (Conv2D)            (None, 21, 21, 16)        9232      \n",
      "_________________________________________________________________\n",
      "activation_3 (Activation)    (None, 21, 21, 16)        0         \n",
      "_________________________________________________________________\n",
      "flatten_1 (Flatten)          (None, 7056)              0         \n",
      "_________________________________________________________________\n",
      "dropout_1 (Dropout)          (None, 7056)              0         \n",
      "_________________________________________________________________\n",
      "dense_1 (Dense)              (None, 4)                 28228     \n",
      "_________________________________________________________________\n",
      "activation_4 (Activation)    (None, 4)                 0         \n",
      "=================================================================\n",
      "Total params: 56,276\n",
      "Trainable params: 56,276\n",
      "Non-trainable params: 0\n",
      "_________________________________________________________________\n"
     ]
    }
   ],
   "source": [
    "model.summary()"
   ]
  },
  {
   "cell_type": "code",
   "execution_count": 13,
   "metadata": {},
   "outputs": [
    {
     "name": "stderr",
     "output_type": "stream",
     "text": [
      "/home/akshay/anaconda3/lib/python3.6/site-packages/ipykernel_launcher.py:2: UserWarning: The `nb_epoch` argument in `fit` has been renamed `epochs`.\n",
      "  \n"
     ]
    },
    {
     "name": "stdout",
     "output_type": "stream",
     "text": [
      "Train on 2880 samples, validate on 1920 samples\n",
      "Epoch 1/3\n",
      "2880/2880 [==============================] - 35s 12ms/step - loss: 0.4513 - acc: 0.8757 - val_loss: 0.0883 - val_acc: 0.9839\n",
      "Epoch 2/3\n",
      "2880/2880 [==============================] - 34s 12ms/step - loss: 0.0603 - acc: 0.9913 - val_loss: 0.0685 - val_acc: 0.9891\n",
      "Epoch 3/3\n",
      "2880/2880 [==============================] - 34s 12ms/step - loss: 0.0380 - acc: 0.9944 - val_loss: 0.0869 - val_acc: 0.9828\n"
     ]
    },
    {
     "data": {
      "text/plain": [
       "<keras.callbacks.History at 0x7fd691c75978>"
      ]
     },
     "execution_count": 13,
     "metadata": {},
     "output_type": "execute_result"
    }
   ],
   "source": [
    "model.compile( optimizer='adam', loss='categorical_crossentropy', metrics=['accuracy'] )\n",
    "model.fit( train_features, train_labels, validation_data=( test_features, test_labels ), shuffle=True, batch_size=128, nb_epoch=3 )\n"
   ]
  },
  {
   "cell_type": "code",
   "execution_count": 14,
   "metadata": {},
   "outputs": [],
   "source": [
    "model.save('Gesture_Recognize.h5')"
   ]
  },
  {
   "cell_type": "code",
   "execution_count": null,
   "metadata": {},
   "outputs": [],
   "source": []
  }
 ],
 "metadata": {
  "kernelspec": {
   "display_name": "Python 3",
   "language": "python",
   "name": "python3"
  },
  "language_info": {
   "codemirror_mode": {
    "name": "ipython",
    "version": 3
   },
   "file_extension": ".py",
   "mimetype": "text/x-python",
   "name": "python",
   "nbconvert_exporter": "python",
   "pygments_lexer": "ipython3",
   "version": "3.6.5"
  }
 },
 "nbformat": 4,
 "nbformat_minor": 2
}
