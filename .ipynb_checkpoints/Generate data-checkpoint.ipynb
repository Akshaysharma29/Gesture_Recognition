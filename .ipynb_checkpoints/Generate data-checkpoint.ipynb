{
 "cells": [
  {
   "cell_type": "code",
   "execution_count": 1,
   "metadata": {},
   "outputs": [],
   "source": [
    "import numpy as np\n",
    "import cv2"
   ]
  },
  {
   "cell_type": "code",
   "execution_count": 2,
   "metadata": {},
   "outputs": [],
   "source": [
    "vc = cv2.VideoCapture(0)"
   ]
  },
  {
   "cell_type": "code",
   "execution_count": 3,
   "metadata": {},
   "outputs": [],
   "source": [
    "path = './gesture/4'\n",
    "count =0;\n",
    "\n",
    "while True and count<1200: \n",
    "    ret, frame = vc.read()\n",
    "    frame = cv2.flip(frame, 1)\n",
    "    \n",
    "    cv2.rectangle(frame,(450,100),(600,250),(0,250,0),2)\n",
    "    \n",
    "    hand = frame[100:250,450:600]\n",
    "    hand = cv2.cvtColor(hand, cv2.COLOR_BGR2GRAY)\n",
    "#     cv2.imshow('Hand',hand)\n",
    "    \n",
    "    blur = cv2.GaussianBlur(hand, (11,11), 0)\n",
    "    blur = cv2.medianBlur(blur, 15)\n",
    "#     cv2.imshow('Blur',blur)\n",
    "    \n",
    "    thresh = cv2.threshold(blur,210,255,cv2.THRESH_BINARY+cv2.THRESH_OTSU)[1]\n",
    "    thresh = cv2.bitwise_not(thresh)\n",
    "    cv2.imshow('Thresh',thresh)\n",
    "    \n",
    "    save_img = cv2.resize( thresh, (50,50) )\n",
    "    save_img = np.array(save_img)\n",
    "    cv2.imwrite(path + \"/\" + str(count) + \".jpg\", save_img)\n",
    "    count+=1;\n",
    "    \n",
    "                  \n",
    "    cv2.imshow('I',frame)\n",
    "    \n",
    "    if cv2.waitKey(1) & 0xff == ord('q'):\n",
    "        break\n",
    "\n",
    "vc.release()\n",
    "cv2.destroyAllWindows()\n",
    "    "
   ]
  },
  {
   "cell_type": "code",
   "execution_count": null,
   "metadata": {},
   "outputs": [],
   "source": []
  }
 ],
 "metadata": {
  "kernelspec": {
   "display_name": "Python 3",
   "language": "python",
   "name": "python3"
  },
  "language_info": {
   "codemirror_mode": {
    "name": "ipython",
    "version": 3
   },
   "file_extension": ".py",
   "mimetype": "text/x-python",
   "name": "python",
   "nbconvert_exporter": "python",
   "pygments_lexer": "ipython3",
   "version": "3.6.5"
  }
 },
 "nbformat": 4,
 "nbformat_minor": 2
}
